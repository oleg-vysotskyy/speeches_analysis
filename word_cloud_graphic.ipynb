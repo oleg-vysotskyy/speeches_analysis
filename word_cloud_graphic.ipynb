{
  "nbformat": 4,
  "nbformat_minor": 0,
  "metadata": {
    "colab": {
      "provenance": [],
      "authorship_tag": "ABX9TyN3IjuGJFD3P+imJud6SWtv",
      "include_colab_link": true
    },
    "kernelspec": {
      "name": "python3",
      "display_name": "Python 3"
    },
    "language_info": {
      "name": "python"
    }
  },
  "cells": [
    {
      "cell_type": "markdown",
      "metadata": {
        "id": "view-in-github",
        "colab_type": "text"
      },
      "source": [
        "<a href=\"https://colab.research.google.com/github/oleg-vysotskyy/speeches_analysis/blob/main/word_cloud_graphic.ipynb\" target=\"_parent\"><img src=\"https://colab.research.google.com/assets/colab-badge.svg\" alt=\"Open In Colab\"/></a>"
      ]
    },
    {
      "cell_type": "code",
      "execution_count": null,
      "metadata": {
        "id": "GB-lUzWbotbc"
      },
      "outputs": [],
      "source": [
        "import os\n",
        "import json\n",
        "from wordcloud import WordCloud\n",
        "import matplotlib.pyplot as plt\n",
        "from PIL import Image\n",
        "import numpy as np\n",
        "\n",
        "from google.colab import drive\n",
        "drive.mount('/content/drive', force_remount=True)\n",
        "file_path = \"/content/drive/My Drive/Colab Notebooks/Speakers/\"\n",
        "os.chdir(file_path)\n",
        "\n",
        "# Load the JSON data\n",
        "file_path = input(f\"\\nEnter JSON file name for visualization: \")       #\"Trump_all_speeches_results.json\", \"Harris_all_speeches_results.json\"\n",
        "with open(file_path, \"r\") as file:\n",
        "    data = json.load(file)\n",
        "\n",
        "# Combine word frequencies from multiple sections (e.g., Topics, Nouns, Adjectives)\n",
        "word_frequencies = {}\n",
        "\n",
        "# Add topics\n",
        "word_frequencies.update(data.get(\"Topics\", {}))\n",
        "\n",
        "# Add nouns\n",
        "for noun, freq in data.get(\"Nouns\", {}).items():\n",
        "    word_frequencies[noun] = word_frequencies.get(noun, 0) + freq\n",
        "\n",
        "# Add adjectives\n",
        "for adjective, freq in data.get(\"Adjectives\", {}).items():\n",
        "    word_frequencies[adjective] = word_frequencies.get(adjective, 0) + freq\n",
        "\n",
        "# Load the mask image for cloud shape\n",
        "mask_path = \"cloud_shape.png\"  # Path to your cloud-shaped image\n",
        "cloud_mask = np.array(Image.open(mask_path))\n",
        "\n",
        "# Ensure the mask is binary (1 for the shape, 0 for background)\n",
        "if cloud_mask.ndim == 3:  # If the image has color channels (e.g., RGB or RGBA)\n",
        "    cloud_mask = cloud_mask[:, :, 0]  # Use only one channel (e.g., Red)\n",
        "cloud_mask = np.where(cloud_mask > 128, 255, 0)  # Convert to binary mask\n",
        "\n",
        "# Generate the word cloud\n",
        "wordcloud = WordCloud(\n",
        "    width=800,\n",
        "    height=800,\n",
        "    background_color=\"white\",\n",
        "    mask=cloud_mask,\n",
        "    contour_width=1,\n",
        "    contour_color=\"blue\",\n",
        "#    colormap=\"Blues\"\n",
        ").generate_from_frequencies(word_frequencies)\n",
        "\n",
        "# Plot the word cloud\n",
        "plt.figure(figsize=(10, 8))\n",
        "plt.imshow(wordcloud, interpolation=\"bilinear\")\n",
        "plt.axis(\"off\")  # Turn off axis\n",
        "plt.title(\"Cloud-Shaped Word Cloud from Speech Analysis\", fontsize=16)\n",
        "plt.show()\n"
      ]
    }
  ]
}